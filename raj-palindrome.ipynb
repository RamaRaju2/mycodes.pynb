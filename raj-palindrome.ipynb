{
 "cells": [
  {
   "cell_type": "code",
   "execution_count": 2,
   "id": "83d5ad1f",
   "metadata": {},
   "outputs": [
    {
     "name": "stdout",
     "output_type": "stream",
     "text": [
      "8\n",
      "8\n",
      "4\n",
      "4\n",
      "5\n",
      "5\n",
      "raj cannot\n"
     ]
    }
   ],
   "source": [
    "#pasting two paintings on one wall:\n",
    "length=int(input())\n",
    "breadth=int(input())\n",
    "p1l=int(input())\n",
    "p1b=int(input())\n",
    "p2l=int(input())\n",
    "p2b=int(input())\n",
    "if p1l+p2l<=length and p1b+p2b<=breadth:\n",
    "   print(\"raj can\")\n",
    "else:\n",
    "    print(\"raj cannot\")"
   ]
  },
  {
   "cell_type": "code",
   "execution_count": 17,
   "id": "404ae405",
   "metadata": {},
   "outputs": [
    {
     "name": "stdout",
     "output_type": "stream",
     "text": [
      "121\n",
      "121\n",
      "pl\n"
     ]
    }
   ],
   "source": [
    "#pallindrome code\n",
    "n=int(input())\n",
    "a=str(n)\n",
    "b=a[::-1]\n",
    "print(b)\n",
    "if b==a:\n",
    "    print(\"pl\")\n",
    "else:\n",
    "    print(\"not pl\")\n",
    "        "
   ]
  },
  {
   "cell_type": "code",
   "execution_count": 20,
   "id": "3f61ceef",
   "metadata": {},
   "outputs": [
    {
     "name": "stdout",
     "output_type": "stream",
     "text": [
      "the highest num is: 123\n"
     ]
    }
   ],
   "source": [
    "#to print highest num without using max:\n",
    "S=[1,7,23,64,99,123]\n",
    "H=S[0]\n",
    "for i in  S:\n",
    "    if i >H:\n",
    "        H=i\n",
    "print(\"the highest num is:\",H)"
   ]
  },
  {
   "cell_type": "code",
   "execution_count": 25,
   "id": "96c76d00",
   "metadata": {},
   "outputs": [
    {
     "name": "stdout",
     "output_type": "stream",
     "text": [
      "n1ram\n",
      "n2raju\n",
      "ramraju\n",
      "enter n1-->1.0\n",
      "enter n2-->3.0\n",
      "4.0\n"
     ]
    }
   ],
   "source": [
    "#adding of 2 strings and num at same time:\n",
    "def add(a,b):\n",
    "    c=a+b\n",
    "    print(c)\n",
    "a=input(\"n1\")\n",
    "b=input(\"n2\")\n",
    "add(a,b)\n",
    "a=float(input(\"enter n1-->\"))\n",
    "b=float(input(\"enter n2-->\"))\n",
    "add(a,b)"
   ]
  },
  {
   "cell_type": "code",
   "execution_count": null,
   "id": "0f5f7e76",
   "metadata": {},
   "outputs": [],
   "source": []
  }
 ],
 "metadata": {
  "kernelspec": {
   "display_name": "Python 3 (ipykernel)",
   "language": "python",
   "name": "python3"
  },
  "language_info": {
   "codemirror_mode": {
    "name": "ipython",
    "version": 3
   },
   "file_extension": ".py",
   "mimetype": "text/x-python",
   "name": "python",
   "nbconvert_exporter": "python",
   "pygments_lexer": "ipython3",
   "version": "3.10.9"
  }
 },
 "nbformat": 4,
 "nbformat_minor": 5
}
