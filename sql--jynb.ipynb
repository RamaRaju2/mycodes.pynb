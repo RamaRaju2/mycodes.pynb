{
 "cells": [
  {
   "cell_type": "code",
   "execution_count": 1,
   "id": "a96537c6",
   "metadata": {},
   "outputs": [],
   "source": [
    "import pymysql"
   ]
  },
  {
   "cell_type": "code",
   "execution_count": 11,
   "id": "ea5ae9bf",
   "metadata": {},
   "outputs": [],
   "source": [
    "x=pymysql.connect(host='localhost',user='root',password='Password@123',database='project1')\n",
    "cr=x.cursor()"
   ]
  },
  {
   "cell_type": "code",
   "execution_count": 15,
   "id": "f95a7a69",
   "metadata": {},
   "outputs": [
    {
     "data": {
      "text/plain": [
       "0"
      ]
     },
     "execution_count": 15,
     "metadata": {},
     "output_type": "execute_result"
    }
   ],
   "source": [
    "cr.execute('create table data5(sno int(10),lan varchar(10),state varchar(10),city varchar(10))')"
   ]
  },
  {
   "cell_type": "code",
   "execution_count": 16,
   "id": "c5e0abf7",
   "metadata": {},
   "outputs": [
    {
     "data": {
      "text/plain": [
       "1"
      ]
     },
     "execution_count": 16,
     "metadata": {},
     "output_type": "execute_result"
    }
   ],
   "source": [
    "cr.execute('insert into data5(sno,lan,state,city) values(1,\"ap\",\"telugu\",\"india\")')"
   ]
  },
  {
   "cell_type": "code",
   "execution_count": 17,
   "id": "9af6a537",
   "metadata": {},
   "outputs": [
    {
     "data": {
      "text/plain": [
       "1"
      ]
     },
     "execution_count": 17,
     "metadata": {},
     "output_type": "execute_result"
    }
   ],
   "source": [
    "cr.execute('insert into data5(sno,lan,state,city) values(2,\"ap\",\"hindi\",\"india\")')"
   ]
  },
  {
   "cell_type": "code",
   "execution_count": 18,
   "id": "e85d19c3",
   "metadata": {},
   "outputs": [
    {
     "name": "stdout",
     "output_type": "stream",
     "text": [
      "sucess\n"
     ]
    }
   ],
   "source": [
    "print(\"sucess\")\n",
    "x.commit()\n",
    "x.close()"
   ]
  },
  {
   "cell_type": "code",
   "execution_count": null,
   "id": "41508b6b",
   "metadata": {},
   "outputs": [],
   "source": []
  }
 ],
 "metadata": {
  "kernelspec": {
   "display_name": "Python 3 (ipykernel)",
   "language": "python",
   "name": "python3"
  },
  "language_info": {
   "codemirror_mode": {
    "name": "ipython",
    "version": 3
   },
   "file_extension": ".py",
   "mimetype": "text/x-python",
   "name": "python",
   "nbconvert_exporter": "python",
   "pygments_lexer": "ipython3",
   "version": "3.10.9"
  }
 },
 "nbformat": 4,
 "nbformat_minor": 5
}
