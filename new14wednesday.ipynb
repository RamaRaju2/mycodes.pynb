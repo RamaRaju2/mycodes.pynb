{
 "cells": [
  {
   "cell_type": "code",
   "execution_count": 33,
   "id": "382bd4e8",
   "metadata": {},
   "outputs": [],
   "source": [
    "import pandas as pd"
   ]
  },
  {
   "cell_type": "code",
   "execution_count": 34,
   "id": "5d5b27ed",
   "metadata": {},
   "outputs": [],
   "source": [
    "data=pd.read_csv(\"/home/placement/Desktop/ramaraju/movies.csv\")"
   ]
  },
  {
   "cell_type": "code",
   "execution_count": 35,
   "id": "0dd5bf3f",
   "metadata": {},
   "outputs": [
    {
     "data": {
      "text/html": [
       "<div>\n",
       "<style scoped>\n",
       "    .dataframe tbody tr th:only-of-type {\n",
       "        vertical-align: middle;\n",
       "    }\n",
       "\n",
       "    .dataframe tbody tr th {\n",
       "        vertical-align: top;\n",
       "    }\n",
       "\n",
       "    .dataframe thead th {\n",
       "        text-align: right;\n",
       "    }\n",
       "</style>\n",
       "<table border=\"1\" class=\"dataframe\">\n",
       "  <thead>\n",
       "    <tr style=\"text-align: right;\">\n",
       "      <th></th>\n",
       "      <th>srno</th>\n",
       "      <th>movie</th>\n",
       "      <th>year</th>\n",
       "      <th>rating</th>\n",
       "      <th>time</th>\n",
       "    </tr>\n",
       "  </thead>\n",
       "  <tbody>\n",
       "    <tr>\n",
       "      <th>0</th>\n",
       "      <td>1</td>\n",
       "      <td>The Nightmare Before</td>\n",
       "      <td>1993</td>\n",
       "      <td>3.9</td>\n",
       "      <td>4568.0</td>\n",
       "    </tr>\n",
       "    <tr>\n",
       "      <th>1</th>\n",
       "      <td>2</td>\n",
       "      <td>The Mummy</td>\n",
       "      <td>1932</td>\n",
       "      <td>3.5</td>\n",
       "      <td>4388.0</td>\n",
       "    </tr>\n",
       "    <tr>\n",
       "      <th>2</th>\n",
       "      <td>3</td>\n",
       "      <td>Orphans of the Storm</td>\n",
       "      <td>1921</td>\n",
       "      <td>3.2</td>\n",
       "      <td>9062.0</td>\n",
       "    </tr>\n",
       "    <tr>\n",
       "      <th>3</th>\n",
       "      <td>4</td>\n",
       "      <td>The Object of Beauty</td>\n",
       "      <td>1991</td>\n",
       "      <td>2.8</td>\n",
       "      <td>6150.0</td>\n",
       "    </tr>\n",
       "    <tr>\n",
       "      <th>4</th>\n",
       "      <td>5</td>\n",
       "      <td>Night Tide</td>\n",
       "      <td>1963</td>\n",
       "      <td>2.8</td>\n",
       "      <td>5126.0</td>\n",
       "    </tr>\n",
       "    <tr>\n",
       "      <th>5</th>\n",
       "      <td>6</td>\n",
       "      <td>One Magic Christmas</td>\n",
       "      <td>1985</td>\n",
       "      <td>3.8</td>\n",
       "      <td>5333.0</td>\n",
       "    </tr>\n",
       "    <tr>\n",
       "      <th>6</th>\n",
       "      <td>7</td>\n",
       "      <td>Muriel's Wedding</td>\n",
       "      <td>1994</td>\n",
       "      <td>3.5</td>\n",
       "      <td>6323.0</td>\n",
       "    </tr>\n",
       "    <tr>\n",
       "      <th>7</th>\n",
       "      <td>8</td>\n",
       "      <td>Mother's Boys</td>\n",
       "      <td>1994</td>\n",
       "      <td>3.4</td>\n",
       "      <td>5733.0</td>\n",
       "    </tr>\n",
       "    <tr>\n",
       "      <th>8</th>\n",
       "      <td>9</td>\n",
       "      <td>Nosferatu: Original Version</td>\n",
       "      <td>1929</td>\n",
       "      <td>3.5</td>\n",
       "      <td>5651.0</td>\n",
       "    </tr>\n",
       "    <tr>\n",
       "      <th>9</th>\n",
       "      <td>10</td>\n",
       "      <td>Nick of Time</td>\n",
       "      <td>1995</td>\n",
       "      <td>3.4</td>\n",
       "      <td>5333.0</td>\n",
       "    </tr>\n",
       "  </tbody>\n",
       "</table>\n",
       "</div>"
      ],
      "text/plain": [
       "   srno                        movie  year  rating    time\n",
       "0     1         The Nightmare Before  1993     3.9  4568.0\n",
       "1     2                    The Mummy  1932     3.5  4388.0\n",
       "2     3         Orphans of the Storm  1921     3.2  9062.0\n",
       "3     4         The Object of Beauty  1991     2.8  6150.0\n",
       "4     5                   Night Tide  1963     2.8  5126.0\n",
       "5     6          One Magic Christmas  1985     3.8  5333.0\n",
       "6     7             Muriel's Wedding  1994     3.5  6323.0\n",
       "7     8                Mother's Boys  1994     3.4  5733.0\n",
       "8     9  Nosferatu: Original Version  1929     3.5  5651.0\n",
       "9    10                 Nick of Time  1995     3.4  5333.0"
      ]
     },
     "execution_count": 35,
     "metadata": {},
     "output_type": "execute_result"
    }
   ],
   "source": [
    "data.head(10)"
   ]
  },
  {
   "cell_type": "code",
   "execution_count": 36,
   "id": "4fa7b7bf",
   "metadata": {},
   "outputs": [
    {
     "data": {
      "text/html": [
       "<div>\n",
       "<style scoped>\n",
       "    .dataframe tbody tr th:only-of-type {\n",
       "        vertical-align: middle;\n",
       "    }\n",
       "\n",
       "    .dataframe tbody tr th {\n",
       "        vertical-align: top;\n",
       "    }\n",
       "\n",
       "    .dataframe thead th {\n",
       "        text-align: right;\n",
       "    }\n",
       "</style>\n",
       "<table border=\"1\" class=\"dataframe\">\n",
       "  <thead>\n",
       "    <tr style=\"text-align: right;\">\n",
       "      <th></th>\n",
       "      <th>srno</th>\n",
       "      <th>year</th>\n",
       "      <th>rating</th>\n",
       "      <th>time</th>\n",
       "    </tr>\n",
       "  </thead>\n",
       "  <tbody>\n",
       "    <tr>\n",
       "      <th>count</th>\n",
       "      <td>49590.000000</td>\n",
       "      <td>49590.000000</td>\n",
       "      <td>10814.000000</td>\n",
       "      <td>45836.000000</td>\n",
       "    </tr>\n",
       "    <tr>\n",
       "      <th>mean</th>\n",
       "      <td>24795.500000</td>\n",
       "      <td>2002.303428</td>\n",
       "      <td>3.451248</td>\n",
       "      <td>2628.445436</td>\n",
       "    </tr>\n",
       "    <tr>\n",
       "      <th>std</th>\n",
       "      <td>14315.544261</td>\n",
       "      <td>12.534555</td>\n",
       "      <td>0.495601</td>\n",
       "      <td>1604.646265</td>\n",
       "    </tr>\n",
       "    <tr>\n",
       "      <th>min</th>\n",
       "      <td>1.000000</td>\n",
       "      <td>1913.000000</td>\n",
       "      <td>1.400000</td>\n",
       "      <td>52.000000</td>\n",
       "    </tr>\n",
       "    <tr>\n",
       "      <th>25%</th>\n",
       "      <td>12398.250000</td>\n",
       "      <td>1999.000000</td>\n",
       "      <td>3.100000</td>\n",
       "      <td>1356.000000</td>\n",
       "    </tr>\n",
       "    <tr>\n",
       "      <th>50%</th>\n",
       "      <td>24795.500000</td>\n",
       "      <td>2007.000000</td>\n",
       "      <td>3.500000</td>\n",
       "      <td>2563.000000</td>\n",
       "    </tr>\n",
       "    <tr>\n",
       "      <th>75%</th>\n",
       "      <td>37192.750000</td>\n",
       "      <td>2010.000000</td>\n",
       "      <td>3.800000</td>\n",
       "      <td>2877.000000</td>\n",
       "    </tr>\n",
       "    <tr>\n",
       "      <th>max</th>\n",
       "      <td>49590.000000</td>\n",
       "      <td>2014.000000</td>\n",
       "      <td>4.500000</td>\n",
       "      <td>28813.000000</td>\n",
       "    </tr>\n",
       "  </tbody>\n",
       "</table>\n",
       "</div>"
      ],
      "text/plain": [
       "               srno          year        rating          time\n",
       "count  49590.000000  49590.000000  10814.000000  45836.000000\n",
       "mean   24795.500000   2002.303428      3.451248   2628.445436\n",
       "std    14315.544261     12.534555      0.495601   1604.646265\n",
       "min        1.000000   1913.000000      1.400000     52.000000\n",
       "25%    12398.250000   1999.000000      3.100000   1356.000000\n",
       "50%    24795.500000   2007.000000      3.500000   2563.000000\n",
       "75%    37192.750000   2010.000000      3.800000   2877.000000\n",
       "max    49590.000000   2014.000000      4.500000  28813.000000"
      ]
     },
     "execution_count": 36,
     "metadata": {},
     "output_type": "execute_result"
    }
   ],
   "source": [
    "data.describe()"
   ]
  },
  {
   "cell_type": "code",
   "execution_count": 37,
   "id": "fc91d24e",
   "metadata": {},
   "outputs": [
    {
     "data": {
      "text/plain": [
       "srno          0\n",
       "movie         0\n",
       "year          0\n",
       "rating    38776\n",
       "time       3754\n",
       "dtype: int64"
      ]
     },
     "execution_count": 37,
     "metadata": {},
     "output_type": "execute_result"
    }
   ],
   "source": [
    "data.isna().sum()"
   ]
  },
  {
   "cell_type": "code",
   "execution_count": 38,
   "id": "c023e141",
   "metadata": {},
   "outputs": [
    {
     "name": "stderr",
     "output_type": "stream",
     "text": [
      "/tmp/ipykernel_12448/2778284476.py:1: FutureWarning: The default value of numeric_only in DataFrame.median is deprecated. In a future version, it will default to False. In addition, specifying 'numeric_only=None' is deprecated. Select only valid columns or specify the value of numeric_only to silence this warning.\n",
      "  data1=data.fillna(data.median())\n"
     ]
    }
   ],
   "source": [
    "data1=data.fillna(data.median())\n",
    "#the error is due to the median needs numerical values. But,we have only strings in movies.csv file."
   ]
  },
  {
   "cell_type": "code",
   "execution_count": 39,
   "id": "284549ac",
   "metadata": {},
   "outputs": [
    {
     "data": {
      "text/plain": [
       "(49590, 5)"
      ]
     },
     "execution_count": 39,
     "metadata": {},
     "output_type": "execute_result"
    }
   ],
   "source": [
    "data.shape\n",
    "#(rows,columns)in our data."
   ]
  },
  {
   "cell_type": "code",
   "execution_count": 40,
   "id": "8acfd498",
   "metadata": {},
   "outputs": [
    {
     "name": "stdout",
     "output_type": "stream",
     "text": [
      "<class 'pandas.core.frame.DataFrame'>\n",
      "RangeIndex: 49590 entries, 0 to 49589\n",
      "Data columns (total 5 columns):\n",
      " #   Column  Non-Null Count  Dtype  \n",
      "---  ------  --------------  -----  \n",
      " 0   srno    49590 non-null  int64  \n",
      " 1   movie   49590 non-null  object \n",
      " 2   year    49590 non-null  int64  \n",
      " 3   rating  10814 non-null  float64\n",
      " 4   time    45836 non-null  float64\n",
      "dtypes: float64(2), int64(2), object(1)\n",
      "memory usage: 1.9+ MB\n"
     ]
    }
   ],
   "source": [
    "data.info()\n",
    "#it will give total no of datatypes in our data(movies.csv)."
   ]
  },
  {
   "cell_type": "code",
   "execution_count": 41,
   "id": "2026884c",
   "metadata": {},
   "outputs": [],
   "source": [
    "data1=data.groupby(['year']).count()"
   ]
  },
  {
   "cell_type": "code",
   "execution_count": 42,
   "id": "6ccbd11a",
   "metadata": {},
   "outputs": [
    {
     "data": {
      "text/html": [
       "<div>\n",
       "<style scoped>\n",
       "    .dataframe tbody tr th:only-of-type {\n",
       "        vertical-align: middle;\n",
       "    }\n",
       "\n",
       "    .dataframe tbody tr th {\n",
       "        vertical-align: top;\n",
       "    }\n",
       "\n",
       "    .dataframe thead th {\n",
       "        text-align: right;\n",
       "    }\n",
       "</style>\n",
       "<table border=\"1\" class=\"dataframe\">\n",
       "  <thead>\n",
       "    <tr style=\"text-align: right;\">\n",
       "      <th></th>\n",
       "      <th>srno</th>\n",
       "      <th>movie</th>\n",
       "      <th>year</th>\n",
       "      <th>rating</th>\n",
       "      <th>time</th>\n",
       "    </tr>\n",
       "  </thead>\n",
       "  <tbody>\n",
       "    <tr>\n",
       "      <th>0</th>\n",
       "      <td>1</td>\n",
       "      <td>The Nightmare Before</td>\n",
       "      <td>1993</td>\n",
       "      <td>3.9</td>\n",
       "      <td>4568.0</td>\n",
       "    </tr>\n",
       "    <tr>\n",
       "      <th>1</th>\n",
       "      <td>2</td>\n",
       "      <td>The Mummy</td>\n",
       "      <td>1932</td>\n",
       "      <td>3.5</td>\n",
       "      <td>4388.0</td>\n",
       "    </tr>\n",
       "    <tr>\n",
       "      <th>2</th>\n",
       "      <td>3</td>\n",
       "      <td>Orphans of the Storm</td>\n",
       "      <td>1921</td>\n",
       "      <td>3.2</td>\n",
       "      <td>9062.0</td>\n",
       "    </tr>\n",
       "    <tr>\n",
       "      <th>3</th>\n",
       "      <td>4</td>\n",
       "      <td>The Object of Beauty</td>\n",
       "      <td>1991</td>\n",
       "      <td>2.8</td>\n",
       "      <td>6150.0</td>\n",
       "    </tr>\n",
       "    <tr>\n",
       "      <th>4</th>\n",
       "      <td>5</td>\n",
       "      <td>Night Tide</td>\n",
       "      <td>1963</td>\n",
       "      <td>2.8</td>\n",
       "      <td>5126.0</td>\n",
       "    </tr>\n",
       "    <tr>\n",
       "      <th>...</th>\n",
       "      <td>...</td>\n",
       "      <td>...</td>\n",
       "      <td>...</td>\n",
       "      <td>...</td>\n",
       "      <td>...</td>\n",
       "    </tr>\n",
       "    <tr>\n",
       "      <th>49585</th>\n",
       "      <td>49586</td>\n",
       "      <td>Winter Wonderland</td>\n",
       "      <td>2013</td>\n",
       "      <td>2.8</td>\n",
       "      <td>1812.0</td>\n",
       "    </tr>\n",
       "    <tr>\n",
       "      <th>49586</th>\n",
       "      <td>49587</td>\n",
       "      <td>Top Gear: Series 19: Africa Special</td>\n",
       "      <td>2013</td>\n",
       "      <td>NaN</td>\n",
       "      <td>6822.0</td>\n",
       "    </tr>\n",
       "    <tr>\n",
       "      <th>49587</th>\n",
       "      <td>49588</td>\n",
       "      <td>Fireplace For Your Home: Crackling Fireplace w...</td>\n",
       "      <td>2010</td>\n",
       "      <td>NaN</td>\n",
       "      <td>3610.0</td>\n",
       "    </tr>\n",
       "    <tr>\n",
       "      <th>49588</th>\n",
       "      <td>49589</td>\n",
       "      <td>Kate Plus Ei8ht</td>\n",
       "      <td>2010</td>\n",
       "      <td>2.7</td>\n",
       "      <td>NaN</td>\n",
       "    </tr>\n",
       "    <tr>\n",
       "      <th>49589</th>\n",
       "      <td>49590</td>\n",
       "      <td>Kate Plus Ei8ht: Season 1</td>\n",
       "      <td>2010</td>\n",
       "      <td>2.7</td>\n",
       "      <td>NaN</td>\n",
       "    </tr>\n",
       "  </tbody>\n",
       "</table>\n",
       "<p>49590 rows × 5 columns</p>\n",
       "</div>"
      ],
      "text/plain": [
       "        srno                                              movie  year  rating  \\\n",
       "0          1                               The Nightmare Before  1993     3.9   \n",
       "1          2                                          The Mummy  1932     3.5   \n",
       "2          3                               Orphans of the Storm  1921     3.2   \n",
       "3          4                               The Object of Beauty  1991     2.8   \n",
       "4          5                                         Night Tide  1963     2.8   \n",
       "...      ...                                                ...   ...     ...   \n",
       "49585  49586                                  Winter Wonderland  2013     2.8   \n",
       "49586  49587                Top Gear: Series 19: Africa Special  2013     NaN   \n",
       "49587  49588  Fireplace For Your Home: Crackling Fireplace w...  2010     NaN   \n",
       "49588  49589                                    Kate Plus Ei8ht  2010     2.7   \n",
       "49589  49590                          Kate Plus Ei8ht: Season 1  2010     2.7   \n",
       "\n",
       "         time  \n",
       "0      4568.0  \n",
       "1      4388.0  \n",
       "2      9062.0  \n",
       "3      6150.0  \n",
       "4      5126.0  \n",
       "...       ...  \n",
       "49585  1812.0  \n",
       "49586  6822.0  \n",
       "49587  3610.0  \n",
       "49588     NaN  \n",
       "49589     NaN  \n",
       "\n",
       "[49590 rows x 5 columns]"
      ]
     },
     "execution_count": 42,
     "metadata": {},
     "output_type": "execute_result"
    }
   ],
   "source": [
    "data"
   ]
  },
  {
   "cell_type": "code",
   "execution_count": 43,
   "id": "81a8f635",
   "metadata": {},
   "outputs": [],
   "source": [
    "data.to_csv('ramaraju.csv')"
   ]
  },
  {
   "cell_type": "code",
   "execution_count": 44,
   "id": "e220b26b",
   "metadata": {},
   "outputs": [
    {
     "data": {
      "text/plain": [
       "<Axes: >"
      ]
     },
     "execution_count": 44,
     "metadata": {},
     "output_type": "execute_result"
    },
    {
     "data": {
      "image/png": "[encoded data removed]",
      "text/plain": [
       "<Figure size 640x480 with 1 Axes>"
      ]
     },
     "metadata": {},
     "output_type": "display_data"
    }
   ],
   "source": [
    "data.plot()"
   ]
  },
  {
   "cell_type": "code",
   "execution_count": 45,
   "id": "5b85c067",
   "metadata": {},
   "outputs": [
    {
     "data": {
      "text/plain": [
       "<Axes: xlabel='time'>"
      ]
     },
     "execution_count": 45,
     "metadata": {},
     "output_type": "execute_result"
    },
    {
     "data": {
      "image/png": "[encoded data removed]",
      "text/plain": [
       "<Figure size 640x480 with 1 Axes>"
      ]
     },
     "metadata": {},
     "output_type": "display_data"
    }
   ],
   "source": [
    "data.plot('time')"
   ]
  },
  {
   "cell_type": "code",
   "execution_count": 47,
   "id": "3ae3b6c9",
   "metadata": {},
   "outputs": [
    {
     "ename": "AssertionError",
     "evalue": "invalid action: 'ingnore'",
     "output_type": "error",
     "traceback": [
      "\u001b[0;31m---------------------------------------------------------------------------\u001b[0m",
      "\u001b[0;31mAssertionError\u001b[0m                            Traceback (most recent call last)",
      "Cell \u001b[0;32mIn[47], line 1\u001b[0m\n\u001b[0;32m----> 1\u001b[0m \u001b[43mwarnings\u001b[49m\u001b[38;5;241;43m.\u001b[39;49m\u001b[43mfilterwarnings\u001b[49m\u001b[43m(\u001b[49m\u001b[38;5;124;43m\"\u001b[39;49m\u001b[38;5;124;43mingnore\u001b[39;49m\u001b[38;5;124;43m\"\u001b[39;49m\u001b[43m)\u001b[49m\n",
      "File \u001b[0;32m~/anaconda3/lib/python3.10/warnings.py:142\u001b[0m, in \u001b[0;36mfilterwarnings\u001b[0;34m(action, message, category, module, lineno, append)\u001b[0m\n\u001b[1;32m    130\u001b[0m \u001b[38;5;28;01mdef\u001b[39;00m \u001b[38;5;21mfilterwarnings\u001b[39m(action, message\u001b[38;5;241m=\u001b[39m\u001b[38;5;124m\"\u001b[39m\u001b[38;5;124m\"\u001b[39m, category\u001b[38;5;241m=\u001b[39m\u001b[38;5;167;01mWarning\u001b[39;00m, module\u001b[38;5;241m=\u001b[39m\u001b[38;5;124m\"\u001b[39m\u001b[38;5;124m\"\u001b[39m, lineno\u001b[38;5;241m=\u001b[39m\u001b[38;5;241m0\u001b[39m,\n\u001b[1;32m    131\u001b[0m                    append\u001b[38;5;241m=\u001b[39m\u001b[38;5;28;01mFalse\u001b[39;00m):\n\u001b[1;32m    132\u001b[0m     \u001b[38;5;124;03m\"\"\"Insert an entry into the list of warnings filters (at the front).\u001b[39;00m\n\u001b[1;32m    133\u001b[0m \n\u001b[1;32m    134\u001b[0m \u001b[38;5;124;03m    'action' -- one of \"error\", \"ignore\", \"always\", \"default\", \"module\",\u001b[39;00m\n\u001b[0;32m   (...)\u001b[0m\n\u001b[1;32m    140\u001b[0m \u001b[38;5;124;03m    'append' -- if true, append to the list of filters\u001b[39;00m\n\u001b[1;32m    141\u001b[0m \u001b[38;5;124;03m    \"\"\"\u001b[39;00m\n\u001b[0;32m--> 142\u001b[0m     \u001b[38;5;28;01massert\u001b[39;00m action \u001b[38;5;129;01min\u001b[39;00m (\u001b[38;5;124m\"\u001b[39m\u001b[38;5;124merror\u001b[39m\u001b[38;5;124m\"\u001b[39m, \u001b[38;5;124m\"\u001b[39m\u001b[38;5;124mignore\u001b[39m\u001b[38;5;124m\"\u001b[39m, \u001b[38;5;124m\"\u001b[39m\u001b[38;5;124malways\u001b[39m\u001b[38;5;124m\"\u001b[39m, \u001b[38;5;124m\"\u001b[39m\u001b[38;5;124mdefault\u001b[39m\u001b[38;5;124m\"\u001b[39m, \u001b[38;5;124m\"\u001b[39m\u001b[38;5;124mmodule\u001b[39m\u001b[38;5;124m\"\u001b[39m,\n\u001b[1;32m    143\u001b[0m                       \u001b[38;5;124m\"\u001b[39m\u001b[38;5;124monce\u001b[39m\u001b[38;5;124m\"\u001b[39m), \u001b[38;5;124m\"\u001b[39m\u001b[38;5;124minvalid action: \u001b[39m\u001b[38;5;132;01m%r\u001b[39;00m\u001b[38;5;124m\"\u001b[39m \u001b[38;5;241m%\u001b[39m (action,)\n\u001b[1;32m    144\u001b[0m     \u001b[38;5;28;01massert\u001b[39;00m \u001b[38;5;28misinstance\u001b[39m(message, \u001b[38;5;28mstr\u001b[39m), \u001b[38;5;124m\"\u001b[39m\u001b[38;5;124mmessage must be a string\u001b[39m\u001b[38;5;124m\"\u001b[39m\n\u001b[1;32m    145\u001b[0m     \u001b[38;5;28;01massert\u001b[39;00m \u001b[38;5;28misinstance\u001b[39m(category, \u001b[38;5;28mtype\u001b[39m), \u001b[38;5;124m\"\u001b[39m\u001b[38;5;124mcategory must be a class\u001b[39m\u001b[38;5;124m\"\u001b[39m\n",
      "\u001b[0;31mAssertionError\u001b[0m: invalid action: 'ingnore'"
     ]
    }
   ],
   "source": [
    "warnings.filterwarnings(\"ingnore\")"
   ]
  },
  {
   "cell_type": "code",
   "execution_count": null,
   "id": "1549ddd9",
   "metadata": {},
   "outputs": [],
   "source": []
  }
 ],
 "metadata": {
  "kernelspec": {
   "display_name": "Python 3 (ipykernel)",
   "language": "python",
   "name": "python3"
  },
  "language_info": {
   "codemirror_mode": {
    "name": "ipython",
    "version": 3
   },
   "file_extension": ".py",
   "mimetype": "text/x-python",
   "name": "python",
   "nbconvert_exporter": "python",
   "pygments_lexer": "ipython3",
   "version": "3.10.9"
  }
 },
 "nbformat": 4,
 "nbformat_minor": 5
}
