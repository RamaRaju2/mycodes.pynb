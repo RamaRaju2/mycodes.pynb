{
 "cells": [
  {
   "cell_type": "code",
   "execution_count": null,
   "id": "1fede9f5",
   "metadata": {},
   "outputs": [],
   "source": [
    "\n",
    "\n",
    "\n",
    "a= int(input())\n",
    "b= int(input())\n",
    "c= int(input())\n",
    "d= int(input())\n",
    "to, of, crr, trr = crr(a,b,c,d)\n",
    "prob= cp(crr,trr)\n",
    "to = a// 6\n",
    "    of = d // 6 + ((d % 6) / 10)\n",
    "    crr = c/of\n",
    "    trr = b / to\n",
    "    \n",
    "\n",
    "    if crr >= trr:\n",
    "        print(\"Eligible to Win\")\n",
    "    else:\n",
    "        print(\"Not Eligible to Win\")\n",
    "print(to)\n",
    "print(of)\n",
    "print(crr)\n",
    "print(trr)\n",
    "print(prob)"
   ]
  }
 ],
 "metadata": {
  "kernelspec": {
   "display_name": "Python 3 (ipykernel)",
   "language": "python",
   "name": "python3"
  },
  "language_info": {
   "codemirror_mode": {
    "name": "ipython",
    "version": 3
   },
   "file_extension": ".py",
   "mimetype": "text/x-python",
   "name": "python",
   "nbconvert_exporter": "python",
   "pygments_lexer": "ipython3",
   "version": "3.10.9"
  }
 },
 "nbformat": 4,
 "nbformat_minor": 5
}
