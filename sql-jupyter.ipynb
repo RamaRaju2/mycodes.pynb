{
 "cells": [
  {
   "cell_type": "code",
   "execution_count": 1,
   "id": "d31111f3",
   "metadata": {},
   "outputs": [],
   "source": [
    "import pymysql"
   ]
  },
  {
   "cell_type": "code",
   "execution_count": 28,
   "id": "ae36e85c",
   "metadata": {},
   "outputs": [],
   "source": [
    "x=pymysql.connect(host='localhost',user='root',password='Password@123',database='project1')\n",
    "cr=x.cursor()"
   ]
  },
  {
   "cell_type": "code",
   "execution_count": 32,
   "id": "f9bacd04",
   "metadata": {},
   "outputs": [],
   "source": [
    "#cr.create table data('id int(3),name varchar(10),age int(2),dept varchar(10)')\n",
    "#cr.insert into data('id,name,age,dept) values(122,\"ram\",23,\"ece\")')"
   ]
  },
  {
   "cell_type": "code",
   "execution_count": null,
   "id": "1ae89905",
   "metadata": {},
   "outputs": [],
   "source": []
  }
 ],
 "metadata": {
  "kernelspec": {
   "display_name": "Python 3 (ipykernel)",
   "language": "python",
   "name": "python3"
  },
  "language_info": {
   "codemirror_mode": {
    "name": "ipython",
    "version": 3
   },
   "file_extension": ".py",
   "mimetype": "text/x-python",
   "name": "python",
   "nbconvert_exporter": "python",
   "pygments_lexer": "ipython3",
   "version": "3.10.9"
  }
 },
 "nbformat": 4,
 "nbformat_minor": 5
}
